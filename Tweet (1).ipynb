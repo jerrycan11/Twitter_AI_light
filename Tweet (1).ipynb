{
 "cells": [
  {
   "cell_type": "code",
   "execution_count": null,
   "metadata": {
    "collapsed": true
   },
   "outputs": [],
   "source": [
    "import tweepy\n",
    "from twitter import Twitter, OAuth, TwitterHTTPError\n",
    "from tweepy import OAuthHandler\n",
    "import time\n",
    "import random\n",
    "\n",
    "consumer_key = 'MrVt4hQMvqY3J3oUkZ7pwY7gq'\n",
    "consumer_secret = 'mt0K6jic5Nty0qvw2juj8CkIQJYWam4yFRl6SgTxB2k0WuNMqi'\n",
    "access_token = '2898203684-j8ucOcBceHUdxSmdNU0yZf1S3NHXLt5z51ZX8W6'\n",
    "access_secret = 'C0zn6zpjXzgMUHhww7y3iXthkcx5ADcSHPF8rjhEZp9VJ'\n",
    "\n",
    "t = Twitter(auth=OAuth(access_token, access_secret,\n",
    "            consumer_key, consumer_secret))\n",
    "\n",
    "\n",
    "auth = OAuthHandler(consumer_key, consumer_secret)\n",
    "auth.set_access_token(access_token, access_secret)\n",
    " \n",
    "api = tweepy.API(auth)"
   ]
  },
  {
   "cell_type": "code",
   "execution_count": null,
   "metadata": {
    "collapsed": true
   },
   "outputs": [],
   "source": [
    "while True:\n",
    "    try:\n",
    "        for status in tweepy.Cursor(api.home_timeline).items():\n",
    "            print(status.id,status.user.id,status.user.name,status.created_at,status.lang,status.favorite_count,status.retweet_count,status.text)\n",
    "    except tweepy.TweepError:\n",
    "        time.sleep(60 * 15)\n",
    "        continue\n",
    "    except StopIteration:\n",
    "        break\n"
   ]
  },
  {
   "cell_type": "code",
   "execution_count": null,
   "metadata": {
    "collapsed": true
   },
   "outputs": [],
   "source": [
    "print(api.get_user(\"user_screen_name\").id)"
   ]
  },
  {
   "cell_type": "code",
   "execution_count": null,
   "metadata": {
    "collapsed": true
   },
   "outputs": [],
   "source": [
    "for i in api.rate_limit_status()['resources']:\n",
    "    print(i)print(api.rate_limit_status()['resources'])"
   ]
  },
  {
   "cell_type": "code",
   "execution_count": null,
   "metadata": {
    "collapsed": true
   },
   "outputs": [],
   "source": [
    "# get user timeline\n",
    "page = 1\n",
    "index=1\n",
    "count=0\n",
    "while True:\n",
    "    if count<600:\n",
    "        statuses = api.user_timeline(user_id=api.get_user(\"narendramodi\").id,page=page)\n",
    "        if statuses:\n",
    "            for status in statuses:\n",
    "                print(str(index)+\",\"+str(status.id)+\",\"+\n",
    "                      str(status.user.id)+\",\"+\n",
    "                      str(status.user.name)+\",\"+\n",
    "                      str(status.created_at)+\",\"+\n",
    "                      str(status.lang)+\",\"+\n",
    "                      str(status.favorite_count)+\",\"+\n",
    "                      str(status.retweet_count)+\",\"+\n",
    "                      str(status.text.replace(\",\",\" \")))\n",
    "                index +=1\n",
    "        else:\n",
    "            break\n",
    "        page += 1 \n",
    "        count +=1\n",
    "    if count==600:\n",
    "        count=0\n",
    "        time.sleep(60 * 15)\n",
    "        \n",
    "    "
   ]
  },
  {
   "cell_type": "code",
   "execution_count": null,
   "metadata": {
    "collapsed": true
   },
   "outputs": [],
   "source": [
    "#timeline\n",
    "\n",
    "index=1\n",
    "while True:\n",
    "    try:\n",
    "        for status in tweepy.Cursor(api.user_timeline(user_id=api.get_user(\"narendramodi\").id)).items():\n",
    "            print(index,status.id,status.user.id,status.user.name,status.created_at,status.lang,status.favorite_count,status.retweet_count,status.text)\n",
    "            index=index+1\n",
    "    except tweepy.TweepError:\n",
    "        print(\"wait\")\n",
    "        time.sleep(60 * 15)\n",
    "        continue\n",
    "        \n",
    "    except StopIteration:\n",
    "        break"
   ]
  },
  {
   "cell_type": "code",
   "execution_count": null,
   "metadata": {
    "collapsed": true
   },
   "outputs": [],
   "source": [
    "#reply\n",
    "\n",
    "i=1\n",
    "query=\"\"\n",
    "while True:\n",
    "    try:\n",
    "        for status in tweepy.Cursor(api.search, q=query).items(10): \n",
    "            tweet = 'Good Evening! @'+status.user.screen_name\n",
    "            statusid = status.id\n",
    "            api.update_status(status=tweet, in_reply_to_status_id=status.id)\n",
    "            print(i,tweet,status.id)\n",
    "            i += 1\n",
    "    except tweepy.TweepError:\n",
    "        print(\"wait\")\n",
    "        time.sleep(60 * 15)\n",
    "        continue\n",
    "        \n",
    "    except StopIteration:\n",
    "        break"
   ]
  },
  {
   "cell_type": "code",
   "execution_count": null,
   "metadata": {},
   "outputs": [],
   "source": [
    "#follow\n",
    "\n",
    "i=1 \n",
    "query=\"#\"\n",
    "\n",
    "while True:\n",
    "    try:\n",
    "        for status in tweepy.Cursor(api.search, q=query).items(): \n",
    "            api.create_friendship(screen_name = status.user.screen_name)\n",
    "            check=False\n",
    "            if(check == False):\n",
    "                t.mutes.users.create(user_id=status.user.id)\n",
    "                print(i,status.user.screen_name)\n",
    "                n=int(random.uniform(1, 9))\n",
    "                time.sleep(n)\n",
    "                i += 1\n",
    "    except tweepy.TweepError:\n",
    "        print(\"wait\")\n",
    "        time.sleep(60 * 15)\n",
    "        continue\n",
    "        \n",
    "    except StopIteration:\n",
    "        break"
   ]
  },
  {
   "cell_type": "code",
   "execution_count": null,
   "metadata": {
    "collapsed": true
   },
   "outputs": [],
   "source": [
    "#retweet\n",
    "\n",
    "i=1\n",
    "query=\"\"\n",
    "while True:\n",
    "    try:\n",
    "        for status in tweepy.Cursor(api.search, q=query).items(): \n",
    "            api.retweet(status.id)\n",
    "            print(i,status.id,status.text)\n",
    "            n=int(random.uniform(1, 20))\n",
    "            time.sleep(n)\n",
    "            i += 1\n",
    "    except tweepy.TweepError:\n",
    "        print(\"wait\")\n",
    "        time.sleep(60 * 15)\n",
    "        continue\n",
    "        \n",
    "    except StopIteration:\n",
    "        break"
   ]
  },
  {
   "cell_type": "code",
   "execution_count": null,
   "metadata": {
    "collapsed": true
   },
   "outputs": [],
   "source": [
    "t.mutes.users.create(user_id=user_id)\n",
    "\n"
   ]
  },
  {
   "cell_type": "code",
   "execution_count": null,
   "metadata": {
    "collapsed": true
   },
   "outputs": [],
   "source": []
  }
 ],
 "metadata": {
  "kernelspec": {
   "display_name": "Python 3",
   "language": "python",
   "name": "python3"
  },
  "language_info": {
   "codemirror_mode": {
    "name": "ipython",
    "version": 3
   },
   "file_extension": ".py",
   "mimetype": "text/x-python",
   "name": "python",
   "nbconvert_exporter": "python",
   "pygments_lexer": "ipython3",
   "version": "3.6.1"
  }
 },
 "nbformat": 4,
 "nbformat_minor": 2
}
